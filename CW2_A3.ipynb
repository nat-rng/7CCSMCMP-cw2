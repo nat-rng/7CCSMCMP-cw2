{
 "cells": [
  {
   "cell_type": "markdown",
   "metadata": {},
   "source": [
    "Task 1"
   ]
  },
  {
   "cell_type": "code",
   "execution_count": null,
   "metadata": {},
   "outputs": [],
   "source": [
    "import json\n",
    "import requests\n",
    "\n",
    "WIKIDATA_API_ENDPOINT = \"https://www.wikidata.org/w/api.php?\"\n",
    "WIKIPEDIA_API_ENDPOINT = \"https://en.wikipedia.org/w/api.php\"\n",
    "HEADERS = {\"User-Agent\": \"coursework_query/2.0\"}"
   ]
  },
  {
   "cell_type": "code",
   "execution_count": null,
   "metadata": {},
   "outputs": [],
   "source": [
    "def get_turing_award_recipients():\n",
    "    acm_award_entities = []\n",
    "    \n",
    "    params_query = {\n",
    "        \"action\":\"query\",\n",
    "        \"format\":\"json\",\n",
    "        \"formatversion\":\"latest\",\n",
    "        \"list\":\"search\",\n",
    "        \"srsearch\": \"haswbstatement:P166=Q185667\",\n",
    "        \"srlimit\":100\n",
    "    }\n",
    "    \n",
    "    search_response = requests.get(WIKIDATA_API_ENDPOINT, headers=HEADERS, params=params_query)\n",
    "    data = search_response.json()\n",
    "    for result in data['query']['search']:\n",
    "        acm_award_entities.append(result['title'])\n",
    "    return acm_award_entities\n",
    "\n",
    "get_turing_award_recipients()"
   ]
  },
  {
   "cell_type": "markdown",
   "metadata": {},
   "source": [
    "Task 2"
   ]
  },
  {
   "cell_type": "code",
   "execution_count": null,
   "metadata": {},
   "outputs": [],
   "source": [
    "def get_wikipedia_content(entity_id):\n",
    "    \n",
    "    params_wbgetentities = {\n",
    "\t\t\"action\": \"wbgetentities\",\n",
    "\t\t\"format\": \"json\",\n",
    "\t\t\"ids\": entity_id,\n",
    "\t\t\"sites\": \"\",\n",
    "\t\t\"props\": \"sitelinks/urls\",\n",
    "\t\t\"languages\": \"en\",\n",
    "\t\t\"sitefilter\": \"enwiki\",\n",
    "\t\t\"utf8\": 1,\n",
    "\t\t\"ascii\": 1,\n",
    "\t\t\"formatversion\": \"latest\"\n",
    "\t}\n",
    "    \n",
    "    wbgetentities_response = requests.get(WIKIDATA_API_ENDPOINT, headers=HEADERS, params=params_wbgetentities)\n",
    "    wbgetentities_data = wbgetentities_response.json()\n",
    "    recipient_name = wbgetentities_data['entities'][entity_id]['sitelinks']['enwiki']['url'].split(\"https://en.wikipedia.org/wiki/\")[1]\n",
    "    \n",
    "    params_getcontent={\n",
    "        'action': 'query',\n",
    "\t\t'format': 'json',\n",
    "\t\t'titles': recipient_name,\n",
    "\t\t'prop': 'extracts',\n",
    "\t\t'explaintext': True,\n",
    "\t}\n",
    "    \n",
    "    wbgetentities_response = requests.get(WIKIPEDIA_API_ENDPOINT, headers=HEADERS, params=params_getcontent)\n",
    "    wbgetentities_data = wbgetentities_response.json()\n",
    "    content = next(iter(wbgetentities_data['query']['pages'].values()))['extract']\n",
    "    return content\n",
    "    \n",
    "print(get_wikipedia_content(\"Q92758\"))\n"
   ]
  }
 ],
 "metadata": {
  "kernelspec": {
   "display_name": "Python 3.9.7 ('base')",
   "language": "python",
   "name": "python3"
  },
  "language_info": {
   "codemirror_mode": {
    "name": "ipython",
    "version": 3
   },
   "file_extension": ".py",
   "mimetype": "text/x-python",
   "name": "python",
   "nbconvert_exporter": "python",
   "pygments_lexer": "ipython3",
   "version": "3.9.7"
  },
  "orig_nbformat": 4,
  "vscode": {
   "interpreter": {
    "hash": "9e2af03db89a63cae038d79569d879ac3706801ba383ac0b3ca91c3e9fed1f36"
   }
  }
 },
 "nbformat": 4,
 "nbformat_minor": 2
}
