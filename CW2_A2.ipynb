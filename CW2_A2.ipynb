{
 "cells": [
  {
   "cell_type": "markdown",
   "metadata": {},
   "source": [
    "Imports and Global Variables"
   ]
  },
  {
   "cell_type": "code",
   "execution_count": 1,
   "metadata": {},
   "outputs": [],
   "source": [
    "import networkx as nx\n",
    "import matplotlib.pyplot as plt\n",
    "\n",
    "MATRIX_SIDE = 10\n",
    "NO_FG_NODES = 20\n",
    "COLOR_BG = \"#a8dadc\"\n",
    "COLOR_FG = \"#457b9d\"\n",
    "SIZE_BG_NODES = 800\n",
    "SIZE_FG_NODES = 2400\n",
    "WEIGHT_BG_EDGES = 4\n",
    "WEIGHT_FG_EDGES = 24\n",
    "FIG_SIZE = (12, 12)"
   ]
  },
  {
   "cell_type": "markdown",
   "metadata": {},
   "source": [
    "Task 1"
   ]
  },
  {
   "cell_type": "code",
   "execution_count": null,
   "metadata": {},
   "outputs": [],
   "source": []
  }
 ],
 "metadata": {
  "kernelspec": {
   "display_name": "Python 3.9.13 ('base')",
   "language": "python",
   "name": "python3"
  },
  "language_info": {
   "codemirror_mode": {
    "name": "ipython",
    "version": 3
   },
   "file_extension": ".py",
   "mimetype": "text/x-python",
   "name": "python",
   "nbconvert_exporter": "python",
   "pygments_lexer": "ipython3",
   "version": "3.9.13"
  },
  "orig_nbformat": 4,
  "vscode": {
   "interpreter": {
    "hash": "334b9cbccb391e97a610fa1686459925ba3c38a6dfd8a581da5ac585bc22844f"
   }
  }
 },
 "nbformat": 4,
 "nbformat_minor": 2
}
