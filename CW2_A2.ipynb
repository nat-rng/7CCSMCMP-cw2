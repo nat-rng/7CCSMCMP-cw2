{
 "cells": [
  {
   "attachments": {},
   "cell_type": "markdown",
   "metadata": {},
   "source": [
    "<h2>Imports and Global Variables</h2>"
   ]
  },
  {
   "cell_type": "code",
   "execution_count": null,
   "metadata": {},
   "outputs": [],
   "source": [
    "import networkx as nx\n",
    "import matplotlib.pyplot as plt\n",
    "import random\n",
    "from networkx.readwrite import json_graph\n",
    "import json\n",
    "\n",
    "MATRIX_SIDE = 10\n",
    "NO_FG_NODES = 20\n",
    "COLOR_BG = \"#a8dadc\"\n",
    "COLOR_FG = \"#457b9d\"\n",
    "SIZE_BG_NODES = 800\n",
    "SIZE_FG_NODES = 2400\n",
    "WEIGHT_BG_EDGES = 4\n",
    "WEIGHT_FG_EDGES = 24\n",
    "FIG_SIZE = (12, 12)"
   ]
  },
  {
   "attachments": {},
   "cell_type": "markdown",
   "metadata": {},
   "source": [
    "<h2>Activity 2</h2>\n",
    "\n",
    "<h3>2.1 Sub-activity: Graph creation</h3>\n",
    "\n",
    "<h4>Task 1</h4>"
   ]
  },
  {
   "cell_type": "code",
   "execution_count": null,
   "metadata": {},
   "outputs": [],
   "source": [
    "# Create a list of tuples for the coordinates of the background nodes, the matrix dimensions are given\n",
    "# by MATRIX_SIDE \n",
    "bg_node_coordinates = [(i,j) for i in range(MATRIX_SIDE) for j in range(MATRIX_SIDE)]\n",
    "# Create a graph and add the background nodes to it with the attributes size, color and node_type\n",
    "# The size of the background nodes is given by SIZE_BG_NODES and the color by COLOR_BG\n",
    "# The node_type attribute is used to distinguish between background and foreground nodes\n",
    "# Define the position of the nodes as the matrix dimensions in the form of a dictionary\n",
    "G = nx.Graph()\n",
    "G.add_nodes_from(bg_node_coordinates, size=SIZE_BG_NODES, color = COLOR_BG, node_type = \"bg\")\n",
    "matrix_dimensions = dict((n, n) for n in G.nodes())\n",
    "\n",
    "# Retrieve color and size attributes for the background nodes to draw the graph\n",
    "node_sizes = [size[1] for size in G.nodes(data=\"size\")]\n",
    "node_colors = [color[1] for color in G.nodes(data=\"color\")]\n",
    "\n",
    "# Draw the graph with the background nodes, the node sizes and colors are defined above\n",
    "# Figure size is given by FIG_SIZE\n",
    "plt.figure(figsize=FIG_SIZE)\n",
    "nx.draw(G, pos=matrix_dimensions, node_size=node_sizes, node_color=node_colors)"
   ]
  },
  {
   "attachments": {},
   "cell_type": "markdown",
   "metadata": {},
   "source": [
    "<h4>Task 2</h4>"
   ]
  },
  {
   "cell_type": "code",
   "execution_count": null,
   "metadata": {},
   "outputs": [],
   "source": [
    "# Define the border nodes as the nodes on the edges of the matrix\n",
    "border = [n for n in bg_node_coordinates if n[0] == 0 or n[0] == MATRIX_SIDE - 1 or n[1] == 0 or n[1] == MATRIX_SIDE - 1]\n",
    "\n",
    "# Randomly sample the background nodes to get a list of foreground nodes, the number of foreground nodes is given by NO_FG_NODES\n",
    "# Ignore the border nodes when sampling the foreground nodes\n",
    "fg_node_coordinates = random.sample([n for n in G if n not in border], NO_FG_NODES)\n",
    "# Remove the foreground nodes from the background nodes, this is later used to create the adjacency list for the background nodes\n",
    "bg_node_coordinates = [bg_node for bg_node in bg_node_coordinates if bg_node not in fg_node_coordinates]\n",
    "\n",
    "# Add the foreground nodes to the graph with the attributes size, color and node_type\n",
    "G.add_nodes_from(fg_node_coordinates, size=SIZE_FG_NODES, color=COLOR_FG, node_type = 'fg')\n",
    "\n",
    "# Retrieve color and size attributes for the foreground nodes to draw the graph\n",
    "node_sizes = [size[1] for size in G.nodes(data=\"size\")]\n",
    "node_colors = [color[1] for color in G.nodes(data=\"color\")]\n",
    "\n",
    "# Draw the graph with the foreground nodes, the node sizes and colors are defined above\n",
    "# Figure size is given by FIG_SIZE\n",
    "plt.figure(figsize=FIG_SIZE)\n",
    "nx.draw(G, pos=matrix_dimensions, node_size=node_sizes, node_color=node_colors)"
   ]
  },
  {
   "attachments": {},
   "cell_type": "markdown",
   "metadata": {},
   "source": [
    "<h3>2.2 Sub-activity: Graph manipulation and output</h3>\n",
    "\n",
    "<h4>Task 3</h4>"
   ]
  },
  {
   "cell_type": "code",
   "execution_count": null,
   "metadata": {},
   "outputs": [],
   "source": [
    "# Create a list of edges for the background nodes in the form of an aqdjacency list (adjacency list is a list of tuples\n",
    "# where the first element is the node and the second element is the connected node)\n",
    "# Nodes are connected to their surrounding nodes (horizontally, vertically and diagonally), and must be in the list of background nodes\n",
    "bg_edges = []\n",
    "for bg_node in bg_node_coordinates:\n",
    "    x,y = bg_node\n",
    "    surrounding_nodes = [(x,y+1), (x,y-1), (x+1,y), (x-1,y), (x-1,y+1), (x+1,y-1), (x+1,y+1), (x-1,y-1)]\n",
    "    surrounding_nodes = [s_node for s_node in surrounding_nodes if s_node in bg_node_coordinates]\n",
    "    for s_node in surrounding_nodes:\n",
    "        bg_edges.append((bg_node, s_node))\n",
    "\n",
    "# Create a list of edges for the foreground nodes in the form of an aqdjacency list (adjacency list is a list of tuples\n",
    "# where the first element is the node and the second element is the connected node)\n",
    "# Nodes are connected to their surrounding nodes (horizontally and vertically), and must be in the original list of foreground nodes\n",
    "fg_edges = []\n",
    "for fg_node in fg_node_coordinates:\n",
    "    x,y = fg_node\n",
    "    surrounding_nodes = [(x,y+1), (x,y-1), (x+1,y), (x-1,y)]\n",
    "    surrounding_nodes = [s_node for s_node in surrounding_nodes if s_node in fg_node_coordinates]\n",
    "    for s_node in surrounding_nodes:\n",
    "        fg_edges.append((fg_node, s_node))\n",
    "\n",
    "# Add the edges for the background nodes and foreground nodes to the graph with the attributes width and color\n",
    "G.add_edges_from(bg_edges, width=WEIGHT_BG_EDGES, color=COLOR_BG)\n",
    "G.add_edges_from(fg_edges, width=WEIGHT_FG_EDGES, color=COLOR_FG)\n",
    "\n",
    "# Retrieve attributes for the nodes of the graph to draw the graph\n",
    "node_sizes = [size[1] for size in G.nodes(data=\"size\")]\n",
    "node_colors = [color[1] for color in G.nodes(data=\"color\")]\n",
    "\n",
    "# Retrieve attributes for the edges of the graph to draw the graph\n",
    "edge_weights = [weight[2] for weight in G.edges(data='width')]\n",
    "edge_colors = [color[2] for color in G.edges(data='color')]\n",
    "\n",
    "# Draw the graph with both background and foreground nodes, the node sizes and colors as well as the edge width and colour are defined above\n",
    "# Plot size is given by FIG_SIZE\n",
    "plt.figure(figsize=FIG_SIZE)\n",
    "nx.draw(G, pos=matrix_dimensions, node_size=node_sizes, node_color=node_colors, width=edge_weights, edge_color=edge_colors)"
   ]
  },
  {
   "attachments": {},
   "cell_type": "markdown",
   "metadata": {},
   "source": [
    "<h4>Task 4</h4>"
   ]
  },
  {
   "cell_type": "code",
   "execution_count": null,
   "metadata": {},
   "outputs": [],
   "source": [
    "# Print the graph analysis for the graph G to the console (includes Graph Info, Graph Density and Graph centrality for each node)\n",
    "print(\"Graph analysis\")\n",
    "print(\"Graph Info: {}\".format(nx.info(G)))\n",
    "print(\"Graph Density: {}\".format(nx.density(G)))\n",
    "print(\"Graph centrality for each node: \\n {}\".format(nx.degree_centrality(G)))"
   ]
  },
  {
   "attachments": {},
   "cell_type": "markdown",
   "metadata": {},
   "source": [
    "<h4>Task 5</h4>"
   ]
  },
  {
   "cell_type": "code",
   "execution_count": null,
   "metadata": {},
   "outputs": [],
   "source": [
    "# Output the graph G to a json file\n",
    "with open('activity2_network_data.json', 'w') as f:\n",
    "    f.write(json.dumps(json_graph.node_link_data(G), indent=2))"
   ]
  }
 ],
 "metadata": {
  "kernelspec": {
   "display_name": "Python 3.9.7 ('base')",
   "language": "python",
   "name": "python3"
  },
  "language_info": {
   "codemirror_mode": {
    "name": "ipython",
    "version": 3
   },
   "file_extension": ".py",
   "mimetype": "text/x-python",
   "name": "python",
   "nbconvert_exporter": "python",
   "pygments_lexer": "ipython3",
   "version": "3.9.7"
  },
  "orig_nbformat": 4,
  "vscode": {
   "interpreter": {
    "hash": "9e2af03db89a63cae038d79569d879ac3706801ba383ac0b3ca91c3e9fed1f36"
   }
  }
 },
 "nbformat": 4,
 "nbformat_minor": 2
}
