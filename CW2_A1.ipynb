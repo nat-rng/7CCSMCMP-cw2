{
 "cells": [
  {
   "cell_type": "code",
   "execution_count": 3,
   "metadata": {},
   "outputs": [],
   "source": [
    "import requests\n",
    "import json\n",
    "from http import HTTPStatus\n",
    "\n",
    "url = 'https://api.coronavirus.data.gov.uk/v1/data'"
   ]
  },
  {
   "cell_type": "markdown",
   "metadata": {},
   "source": [
    "*Task 1*"
   ]
  },
  {
   "cell_type": "code",
   "execution_count": null,
   "metadata": {},
   "outputs": [],
   "source": [
    "def get_API_data(filters, structure):\n",
    "    params = {\n",
    "    \"filters\": str.join(\";\", filters['filters']),\n",
    "    \"structure\": json.dumps(structure, separators=(\",\", \":\"))\n",
    "    }\n",
    "    data = []\n",
    "    page_number = 1\n",
    "    \n",
    "    while True:\n",
    "    # Adding page number to query params\n",
    "        params[\"page\"] = page_number\n",
    "\n",
    "        response = requests.get(url, params = params)\n",
    "        response_json = response.json()\n",
    "        data.extend(response_json['data'])\n",
    "        \n",
    "        if response.status_code >= HTTPStatus.BAD_REQUEST:\n",
    "            raise RuntimeError(f'Request failed: {response.text}')\n",
    "        elif response.status_code == HTTPStatus.NO_CONTENT:\n",
    "            break\n",
    "        \n",
    "        if response_json[\"pagination\"][\"next\"] is None:\n",
    "            break\n",
    "\n",
    "        page_number += 1\n",
    "    \n",
    "    return data"
   ]
  },
  {
   "cell_type": "markdown",
   "metadata": {},
   "source": [
    "Task 2"
   ]
  },
  {
   "cell_type": "code",
   "execution_count": null,
   "metadata": {},
   "outputs": [],
   "source": [
    "AREA_TYPE = 'nation'\n",
    "AREA_NAME = 'england'\n",
    "\n",
    "filters = {'filters' : [\n",
    "    f\"areaType={ AREA_TYPE }\",\n",
    "    f\"areaName={ AREA_NAME }\"\n",
    "]}\n",
    "\n",
    "structure = {\n",
    "    \"date\": \"date\",\n",
    "    \"area\": \"araeName\",\n",
    "    \"dailyCases\": \"newCasesBySpecimenDate\",\n",
    "}"
   ]
  },
  {
   "cell_type": "code",
   "execution_count": null,
   "metadata": {},
   "outputs": [],
   "source": []
  }
 ],
 "metadata": {
  "kernelspec": {
   "display_name": "Python 3.9.13 ('base')",
   "language": "python",
   "name": "python3"
  },
  "language_info": {
   "codemirror_mode": {
    "name": "ipython",
    "version": 3
   },
   "file_extension": ".py",
   "mimetype": "text/x-python",
   "name": "python",
   "nbconvert_exporter": "python",
   "pygments_lexer": "ipython3",
   "version": "3.9.13"
  },
  "orig_nbformat": 4,
  "vscode": {
   "interpreter": {
    "hash": "334b9cbccb391e97a610fa1686459925ba3c38a6dfd8a581da5ac585bc22844f"
   }
  }
 },
 "nbformat": 4,
 "nbformat_minor": 2
}
