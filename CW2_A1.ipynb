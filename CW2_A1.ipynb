{
 "cells": [
  {
   "cell_type": "code",
   "execution_count": 10,
   "metadata": {},
   "outputs": [],
   "source": [
    "import requests\n",
    "import json\n",
    "import time\n",
    "from http import HTTPStatus\n",
    "import pandas as pd\n",
    "import numpy as np\n",
    "import matplotlib.pyplot as plt\n",
    "\n",
    "url = 'https://api.coronavirus.data.gov.uk/v1/data'"
   ]
  },
  {
   "cell_type": "markdown",
   "metadata": {},
   "source": [
    "*Task 1*"
   ]
  },
  {
   "cell_type": "code",
   "execution_count": 11,
   "metadata": {},
   "outputs": [],
   "source": [
    "def get_API_data(filters, structure):\n",
    "    params = {\n",
    "    \"filters\": str.join(\";\", filters['filters']),\n",
    "    \"structure\": json.dumps(structure, separators=(\",\", \":\"))\n",
    "    }\n",
    "    data = []\n",
    "    page_number = 1\n",
    "    request_counter = 0\n",
    "    while True:\n",
    "    # Adding page number to query params\n",
    "        print(request_counter)\n",
    "        params[\"page\"] = page_number\n",
    "\n",
    "        response = requests.get(url, params = params)\n",
    "        response_json = response.json()\n",
    "        data.extend(response_json['data'])\n",
    "        # if request_counter % 10 == 0:\n",
    "        #     time.sleep(100)\n",
    "        if response.status_code >= HTTPStatus.BAD_REQUEST:\n",
    "            raise RuntimeError(f'Request failed: {response.text}')\n",
    "        elif response.status_code == HTTPStatus.NO_CONTENT:\n",
    "            break\n",
    "        \n",
    "        if response_json[\"pagination\"][\"next\"] is None:\n",
    "            break\n",
    "\n",
    "        page_number += 1\n",
    "        request_counter += 1\n",
    "    \n",
    "    return data"
   ]
  },
  {
   "cell_type": "markdown",
   "metadata": {},
   "source": [
    "Task 2"
   ]
  },
  {
   "cell_type": "code",
   "execution_count": 12,
   "metadata": {},
   "outputs": [],
   "source": [
    "AREA_TYPE = {\"nat\": \"nation\", \"rgn\": \"region\"}\n",
    "\n",
    "REQUEST_STRUCTURE = {\n",
    "    \"date\": \"date\",\n",
    "    \"name\": \"areaName\",\n",
    "    \"daily_cases\": \"newCasesBySpecimenDate\",\n",
    "    \"cumulative_cases\": \"cumCasesBySpecimenDate\",\n",
    "    \"daily_deaths\": \"newDeaths28DaysByPublishDate\",\n",
    "    \"cumulative_deaths\": \"cumDeaths28DaysByPublishDate\",\n",
    "    \"cumulative_vaccinated\": \"cumPeopleVaccinatedSecondDoseByVaccinationDate\",\n",
    "    \"vaccination_age\": \"vaccinationsAgeDemographics\"\n",
    "}\n",
    "\n",
    "def get_filters(area_type): \n",
    "    filters = {'filters' : [\n",
    "        f\"areaType={ area_type }\",\n",
    "    ]}\n",
    "    return filters\n",
    "\n"
   ]
  },
  {
   "cell_type": "code",
   "execution_count": 13,
   "metadata": {},
   "outputs": [
    {
     "name": "stdout",
     "output_type": "stream",
     "text": [
      "0\n",
      "0\n",
      "1\n",
      "2\n"
     ]
    }
   ],
   "source": [
    "national_filter = get_filters(AREA_TYPE[\"nat\"])\n",
    "regional_filter = get_filters(AREA_TYPE[\"rgn\"])\n",
    "results_json_national = get_API_data(national_filter, REQUEST_STRUCTURE)\n",
    "results_json_regional = get_API_data(regional_filter, REQUEST_STRUCTURE)"
   ]
  },
  {
   "attachments": {},
   "cell_type": "markdown",
   "metadata": {},
   "source": [
    "Task 3"
   ]
  },
  {
   "cell_type": "code",
   "execution_count": 14,
   "metadata": {},
   "outputs": [],
   "source": [
    "combined_results_json = results_json_national + results_json_regional"
   ]
  },
  {
   "attachments": {},
   "cell_type": "markdown",
   "metadata": {},
   "source": [
    "Task 4"
   ]
  },
  {
   "cell_type": "code",
   "execution_count": 15,
   "metadata": {},
   "outputs": [
    {
     "data": {
      "text/html": [
       "<div>\n",
       "<style scoped>\n",
       "    .dataframe tbody tr th:only-of-type {\n",
       "        vertical-align: middle;\n",
       "    }\n",
       "\n",
       "    .dataframe tbody tr th {\n",
       "        vertical-align: top;\n",
       "    }\n",
       "\n",
       "    .dataframe thead th {\n",
       "        text-align: right;\n",
       "    }\n",
       "</style>\n",
       "<table border=\"1\" class=\"dataframe\">\n",
       "  <thead>\n",
       "    <tr style=\"text-align: right;\">\n",
       "      <th></th>\n",
       "      <th>date</th>\n",
       "      <th>name</th>\n",
       "      <th>daily_cases</th>\n",
       "      <th>cumulative_cases</th>\n",
       "      <th>daily_deaths</th>\n",
       "      <th>cumulative_deaths</th>\n",
       "      <th>cumulative_vaccinated</th>\n",
       "      <th>vaccination_age</th>\n",
       "    </tr>\n",
       "  </thead>\n",
       "  <tbody>\n",
       "    <tr>\n",
       "      <th>0</th>\n",
       "      <td>2022-12-08</td>\n",
       "      <td>England</td>\n",
       "      <td>NaN</td>\n",
       "      <td>NaN</td>\n",
       "      <td>461.0</td>\n",
       "      <td>173821.0</td>\n",
       "      <td>NaN</td>\n",
       "      <td>[]</td>\n",
       "    </tr>\n",
       "    <tr>\n",
       "      <th>1</th>\n",
       "      <td>2022-12-07</td>\n",
       "      <td>England</td>\n",
       "      <td>2718.0</td>\n",
       "      <td>20317848.0</td>\n",
       "      <td>0.0</td>\n",
       "      <td>173360.0</td>\n",
       "      <td>41987655.0</td>\n",
       "      <td>[{'age': '05_11', 'VaccineRegisterPopulationBy...</td>\n",
       "    </tr>\n",
       "    <tr>\n",
       "      <th>2</th>\n",
       "      <td>2022-12-06</td>\n",
       "      <td>England</td>\n",
       "      <td>4102.0</td>\n",
       "      <td>20315130.0</td>\n",
       "      <td>0.0</td>\n",
       "      <td>173360.0</td>\n",
       "      <td>41987099.0</td>\n",
       "      <td>[{'age': '05_11', 'VaccineRegisterPopulationBy...</td>\n",
       "    </tr>\n",
       "    <tr>\n",
       "      <th>3</th>\n",
       "      <td>2022-12-05</td>\n",
       "      <td>England</td>\n",
       "      <td>4447.0</td>\n",
       "      <td>20311028.0</td>\n",
       "      <td>0.0</td>\n",
       "      <td>173360.0</td>\n",
       "      <td>41986506.0</td>\n",
       "      <td>[{'age': '05_11', 'VaccineRegisterPopulationBy...</td>\n",
       "    </tr>\n",
       "    <tr>\n",
       "      <th>4</th>\n",
       "      <td>2022-12-04</td>\n",
       "      <td>England</td>\n",
       "      <td>3278.0</td>\n",
       "      <td>20306581.0</td>\n",
       "      <td>0.0</td>\n",
       "      <td>173360.0</td>\n",
       "      <td>41985981.0</td>\n",
       "      <td>[{'age': '05_11', 'VaccineRegisterPopulationBy...</td>\n",
       "    </tr>\n",
       "  </tbody>\n",
       "</table>\n",
       "</div>"
      ],
      "text/plain": [
       "         date     name  daily_cases  cumulative_cases  daily_deaths  \\\n",
       "0  2022-12-08  England          NaN               NaN         461.0   \n",
       "1  2022-12-07  England       2718.0        20317848.0           0.0   \n",
       "2  2022-12-06  England       4102.0        20315130.0           0.0   \n",
       "3  2022-12-05  England       4447.0        20311028.0           0.0   \n",
       "4  2022-12-04  England       3278.0        20306581.0           0.0   \n",
       "\n",
       "   cumulative_deaths  cumulative_vaccinated  \\\n",
       "0           173821.0                    NaN   \n",
       "1           173360.0             41987655.0   \n",
       "2           173360.0             41987099.0   \n",
       "3           173360.0             41986506.0   \n",
       "4           173360.0             41985981.0   \n",
       "\n",
       "                                     vaccination_age  \n",
       "0                                                 []  \n",
       "1  [{'age': '05_11', 'VaccineRegisterPopulationBy...  \n",
       "2  [{'age': '05_11', 'VaccineRegisterPopulationBy...  \n",
       "3  [{'age': '05_11', 'VaccineRegisterPopulationBy...  \n",
       "4  [{'age': '05_11', 'VaccineRegisterPopulationBy...  "
      ]
     },
     "execution_count": 15,
     "metadata": {},
     "output_type": "execute_result"
    }
   ],
   "source": [
    "covid_data = pd.DataFrame(combined_results_json)\n",
    "covid_data.head()"
   ]
  },
  {
   "attachments": {},
   "cell_type": "markdown",
   "metadata": {},
   "source": [
    "Task 5"
   ]
  },
  {
   "cell_type": "code",
   "execution_count": 16,
   "metadata": {},
   "outputs": [],
   "source": [
    "covid_data.drop(covid_data.loc[covid_data[\"name\"]==\"England\"].index, inplace=True)\n"
   ]
  },
  {
   "attachments": {},
   "cell_type": "markdown",
   "metadata": {},
   "source": [
    "Task 6"
   ]
  },
  {
   "cell_type": "code",
   "execution_count": 17,
   "metadata": {},
   "outputs": [
    {
     "data": {
      "text/html": [
       "<div>\n",
       "<style scoped>\n",
       "    .dataframe tbody tr th:only-of-type {\n",
       "        vertical-align: middle;\n",
       "    }\n",
       "\n",
       "    .dataframe tbody tr th {\n",
       "        vertical-align: top;\n",
       "    }\n",
       "\n",
       "    .dataframe thead th {\n",
       "        text-align: right;\n",
       "    }\n",
       "</style>\n",
       "<table border=\"1\" class=\"dataframe\">\n",
       "  <thead>\n",
       "    <tr style=\"text-align: right;\">\n",
       "      <th></th>\n",
       "      <th>date</th>\n",
       "      <th>area</th>\n",
       "      <th>daily_cases</th>\n",
       "      <th>cumulative_cases</th>\n",
       "      <th>daily_deaths</th>\n",
       "      <th>cumulative_deaths</th>\n",
       "      <th>cumulative_vaccinated</th>\n",
       "      <th>vaccination_age</th>\n",
       "    </tr>\n",
       "  </thead>\n",
       "  <tbody>\n",
       "    <tr>\n",
       "      <th>1044</th>\n",
       "      <td>2022-05-20</td>\n",
       "      <td>Northern Ireland</td>\n",
       "      <td>NaN</td>\n",
       "      <td>NaN</td>\n",
       "      <td>0.0</td>\n",
       "      <td>3445.0</td>\n",
       "      <td>NaN</td>\n",
       "      <td>[]</td>\n",
       "    </tr>\n",
       "    <tr>\n",
       "      <th>1045</th>\n",
       "      <td>2022-05-19</td>\n",
       "      <td>Northern Ireland</td>\n",
       "      <td>190.0</td>\n",
       "      <td>713294.0</td>\n",
       "      <td>4.0</td>\n",
       "      <td>3445.0</td>\n",
       "      <td>NaN</td>\n",
       "      <td>[]</td>\n",
       "    </tr>\n",
       "    <tr>\n",
       "      <th>1046</th>\n",
       "      <td>2022-05-18</td>\n",
       "      <td>Northern Ireland</td>\n",
       "      <td>266.0</td>\n",
       "      <td>713104.0</td>\n",
       "      <td>1.0</td>\n",
       "      <td>3441.0</td>\n",
       "      <td>NaN</td>\n",
       "      <td>[]</td>\n",
       "    </tr>\n",
       "    <tr>\n",
       "      <th>1047</th>\n",
       "      <td>2022-05-17</td>\n",
       "      <td>Northern Ireland</td>\n",
       "      <td>318.0</td>\n",
       "      <td>712838.0</td>\n",
       "      <td>2.0</td>\n",
       "      <td>3440.0</td>\n",
       "      <td>NaN</td>\n",
       "      <td>[]</td>\n",
       "    </tr>\n",
       "    <tr>\n",
       "      <th>1048</th>\n",
       "      <td>2022-05-16</td>\n",
       "      <td>Northern Ireland</td>\n",
       "      <td>356.0</td>\n",
       "      <td>712520.0</td>\n",
       "      <td>1.0</td>\n",
       "      <td>3438.0</td>\n",
       "      <td>NaN</td>\n",
       "      <td>[]</td>\n",
       "    </tr>\n",
       "  </tbody>\n",
       "</table>\n",
       "</div>"
      ],
      "text/plain": [
       "            date              area  daily_cases  cumulative_cases  \\\n",
       "1044  2022-05-20  Northern Ireland          NaN               NaN   \n",
       "1045  2022-05-19  Northern Ireland        190.0          713294.0   \n",
       "1046  2022-05-18  Northern Ireland        266.0          713104.0   \n",
       "1047  2022-05-17  Northern Ireland        318.0          712838.0   \n",
       "1048  2022-05-16  Northern Ireland        356.0          712520.0   \n",
       "\n",
       "      daily_deaths  cumulative_deaths  cumulative_vaccinated vaccination_age  \n",
       "1044           0.0             3445.0                    NaN              []  \n",
       "1045           4.0             3445.0                    NaN              []  \n",
       "1046           1.0             3441.0                    NaN              []  \n",
       "1047           2.0             3440.0                    NaN              []  \n",
       "1048           1.0             3438.0                    NaN              []  "
      ]
     },
     "execution_count": 17,
     "metadata": {},
     "output_type": "execute_result"
    }
   ],
   "source": [
    "covid_data.rename({\"name\": \"area\"}, axis=1, inplace=True)\n",
    "covid_data.head()"
   ]
  },
  {
   "attachments": {},
   "cell_type": "markdown",
   "metadata": {},
   "source": [
    "Task 7"
   ]
  },
  {
   "cell_type": "code",
   "execution_count": 18,
   "metadata": {},
   "outputs": [
    {
     "name": "stdout",
     "output_type": "stream",
     "text": [
      "date                     datetime64[ns]\n",
      "area                             object\n",
      "daily_cases                     float64\n",
      "cumulative_cases                float64\n",
      "daily_deaths                    float64\n",
      "cumulative_deaths               float64\n",
      "cumulative_vaccinated           float64\n",
      "vaccination_age                  object\n",
      "dtype: object\n"
     ]
    }
   ],
   "source": [
    "covid_data[\"date\"] = pd.to_datetime(covid_data[\"date\"], format=\"%Y-%m-%d\")\n",
    "\n",
    "print(covid_data.dtypes)"
   ]
  },
  {
   "attachments": {},
   "cell_type": "markdown",
   "metadata": {},
   "source": [
    "Task 8"
   ]
  },
  {
   "cell_type": "code",
   "execution_count": 19,
   "metadata": {},
   "outputs": [
    {
     "name": "stdout",
     "output_type": "stream",
     "text": [
      "<class 'pandas.core.frame.DataFrame'>\n",
      "RangeIndex: 12154 entries, 1044 to 13197\n",
      "Data columns (total 8 columns):\n",
      " #   Column                 Non-Null Count  Dtype         \n",
      "---  ------                 --------------  -----         \n",
      " 0   date                   12154 non-null  datetime64[ns]\n",
      " 1   area                   12154 non-null  object        \n",
      " 2   daily_cases            12142 non-null  float64       \n",
      " 3   cumulative_cases       12141 non-null  float64       \n",
      " 4   daily_deaths           10179 non-null  float64       \n",
      " 5   cumulative_deaths      10191 non-null  float64       \n",
      " 6   cumulative_vaccinated  7306 non-null   float64       \n",
      " 7   vaccination_age        7212 non-null   object        \n",
      "dtypes: datetime64[ns](1), float64(5), object(2)\n",
      "memory usage: 759.8+ KB\n",
      "\n",
      "Missing data from each columnn: \n",
      "date                        0\n",
      "area                        0\n",
      "daily_cases                12\n",
      "cumulative_cases           13\n",
      "daily_deaths             1975\n",
      "cumulative_deaths        1963\n",
      "cumulative_vaccinated    4848\n",
      "vaccination_age          4942\n",
      "dtype: int64\n",
      "\n",
      "Total number of missing values is: 13753\n"
     ]
    }
   ],
   "source": [
    "covid_data[\"vaccination_age\"] = covid_data[\"vaccination_age\"].apply(lambda value_list: value_list if value_list else np.nan)\n",
    "\n",
    "covid_data.head()\n",
    "covid_data.info()\n",
    "\n",
    "print(\"\\nMissing data from each columnn: \\n{}\".format(covid_data.isnull().sum()))\n",
    "print(\"\\nTotal number of missing values is: {}\".format(covid_data.isnull().sum().sum()))"
   ]
  },
  {
   "attachments": {},
   "cell_type": "markdown",
   "metadata": {},
   "source": [
    "Task 9"
   ]
  },
  {
   "cell_type": "code",
   "execution_count": 20,
   "metadata": {},
   "outputs": [],
   "source": [
    "covid_data[\"cumulative_cases\"] = covid_data.sort_values(by=[\"date\"], ascending=False).groupby([\"area\"])[\"cumulative_cases\"].fillna(method=\"bfill\")\n",
    "covid_data[\"cumulative_deaths\"] = covid_data.sort_values(by=[\"date\"], ascending=False).groupby([\"area\"])[\"cumulative_deaths\"].fillna(method=\"bfill\")\n",
    "covid_data[\"cumulative_vaccinated\"] = covid_data.sort_values(by=[\"date\"], ascending=False).groupby([\"area\"])[\"cumulative_vaccinated\"].fillna(method=\"bfill\")"
   ]
  },
  {
   "attachments": {},
   "cell_type": "markdown",
   "metadata": {},
   "source": [
    "Task 10"
   ]
  },
  {
   "cell_type": "code",
   "execution_count": 21,
   "metadata": {},
   "outputs": [
    {
     "name": "stdout",
     "output_type": "stream",
     "text": [
      "<class 'pandas.core.frame.DataFrame'>\n",
      "Int64Index: 7090 entries, 2044 to 12897\n",
      "Data columns (total 8 columns):\n",
      " #   Column                 Non-Null Count  Dtype         \n",
      "---  ------                 --------------  -----         \n",
      " 0   date                   7090 non-null   datetime64[ns]\n",
      " 1   area                   7090 non-null   object        \n",
      " 2   daily_cases            7090 non-null   float64       \n",
      " 3   cumulative_cases       7090 non-null   float64       \n",
      " 4   daily_deaths           7090 non-null   float64       \n",
      " 5   cumulative_deaths      7090 non-null   float64       \n",
      " 6   cumulative_vaccinated  7090 non-null   float64       \n",
      " 7   vaccination_age        7090 non-null   object        \n",
      "dtypes: datetime64[ns](1), float64(5), object(2)\n",
      "memory usage: 498.5+ KB\n"
     ]
    },
    {
     "data": {
      "text/html": [
       "<div>\n",
       "<style scoped>\n",
       "    .dataframe tbody tr th:only-of-type {\n",
       "        vertical-align: middle;\n",
       "    }\n",
       "\n",
       "    .dataframe tbody tr th {\n",
       "        vertical-align: top;\n",
       "    }\n",
       "\n",
       "    .dataframe thead th {\n",
       "        text-align: right;\n",
       "    }\n",
       "</style>\n",
       "<table border=\"1\" class=\"dataframe\">\n",
       "  <thead>\n",
       "    <tr style=\"text-align: right;\">\n",
       "      <th></th>\n",
       "      <th>date</th>\n",
       "      <th>area</th>\n",
       "      <th>daily_cases</th>\n",
       "      <th>cumulative_cases</th>\n",
       "      <th>daily_deaths</th>\n",
       "      <th>cumulative_deaths</th>\n",
       "      <th>cumulative_vaccinated</th>\n",
       "      <th>vaccination_age</th>\n",
       "    </tr>\n",
       "  </thead>\n",
       "  <tbody>\n",
       "    <tr>\n",
       "      <th>2044</th>\n",
       "      <td>2022-06-02</td>\n",
       "      <td>Scotland</td>\n",
       "      <td>1101.0</td>\n",
       "      <td>1960631.0</td>\n",
       "      <td>28.0</td>\n",
       "      <td>12389.0</td>\n",
       "      <td>4097950.0</td>\n",
       "      <td>[{'age': '05_11', 'VaccineRegisterPopulationBy...</td>\n",
       "    </tr>\n",
       "    <tr>\n",
       "      <th>2045</th>\n",
       "      <td>2022-06-01</td>\n",
       "      <td>Scotland</td>\n",
       "      <td>1246.0</td>\n",
       "      <td>1959530.0</td>\n",
       "      <td>0.0</td>\n",
       "      <td>12361.0</td>\n",
       "      <td>4097561.0</td>\n",
       "      <td>[{'age': '05_11', 'VaccineRegisterPopulationBy...</td>\n",
       "    </tr>\n",
       "    <tr>\n",
       "      <th>2046</th>\n",
       "      <td>2022-05-31</td>\n",
       "      <td>Scotland</td>\n",
       "      <td>1329.0</td>\n",
       "      <td>1958284.0</td>\n",
       "      <td>0.0</td>\n",
       "      <td>12361.0</td>\n",
       "      <td>4097145.0</td>\n",
       "      <td>[{'age': '05_11', 'VaccineRegisterPopulationBy...</td>\n",
       "    </tr>\n",
       "    <tr>\n",
       "      <th>2047</th>\n",
       "      <td>2022-05-30</td>\n",
       "      <td>Scotland</td>\n",
       "      <td>1154.0</td>\n",
       "      <td>1956955.0</td>\n",
       "      <td>17.0</td>\n",
       "      <td>12361.0</td>\n",
       "      <td>4096767.0</td>\n",
       "      <td>[{'age': '05_11', 'VaccineRegisterPopulationBy...</td>\n",
       "    </tr>\n",
       "    <tr>\n",
       "      <th>2048</th>\n",
       "      <td>2022-05-29</td>\n",
       "      <td>Scotland</td>\n",
       "      <td>959.0</td>\n",
       "      <td>1955801.0</td>\n",
       "      <td>0.0</td>\n",
       "      <td>12344.0</td>\n",
       "      <td>4096402.0</td>\n",
       "      <td>[{'age': '05_11', 'VaccineRegisterPopulationBy...</td>\n",
       "    </tr>\n",
       "  </tbody>\n",
       "</table>\n",
       "</div>"
      ],
      "text/plain": [
       "           date      area  daily_cases  cumulative_cases  daily_deaths  \\\n",
       "2044 2022-06-02  Scotland       1101.0         1960631.0          28.0   \n",
       "2045 2022-06-01  Scotland       1246.0         1959530.0           0.0   \n",
       "2046 2022-05-31  Scotland       1329.0         1958284.0           0.0   \n",
       "2047 2022-05-30  Scotland       1154.0         1956955.0          17.0   \n",
       "2048 2022-05-29  Scotland        959.0         1955801.0           0.0   \n",
       "\n",
       "      cumulative_deaths  cumulative_vaccinated  \\\n",
       "2044            12389.0              4097950.0   \n",
       "2045            12361.0              4097561.0   \n",
       "2046            12361.0              4097145.0   \n",
       "2047            12361.0              4096767.0   \n",
       "2048            12344.0              4096402.0   \n",
       "\n",
       "                                        vaccination_age  \n",
       "2044  [{'age': '05_11', 'VaccineRegisterPopulationBy...  \n",
       "2045  [{'age': '05_11', 'VaccineRegisterPopulationBy...  \n",
       "2046  [{'age': '05_11', 'VaccineRegisterPopulationBy...  \n",
       "2047  [{'age': '05_11', 'VaccineRegisterPopulationBy...  \n",
       "2048  [{'age': '05_11', 'VaccineRegisterPopulationBy...  "
      ]
     },
     "execution_count": 21,
     "metadata": {},
     "output_type": "execute_result"
    }
   ],
   "source": [
    "covid_data.dropna(axis=0, inplace=True)\n",
    "covid_data.info()\n",
    "covid_data.head()\n"
   ]
  }
 ],
 "metadata": {
  "kernelspec": {
   "display_name": "Python 3.9.7 ('base')",
   "language": "python",
   "name": "python3"
  },
  "language_info": {
   "codemirror_mode": {
    "name": "ipython",
    "version": 3
   },
   "file_extension": ".py",
   "mimetype": "text/x-python",
   "name": "python",
   "nbconvert_exporter": "python",
   "pygments_lexer": "ipython3",
   "version": "3.9.7"
  },
  "orig_nbformat": 4,
  "vscode": {
   "interpreter": {
    "hash": "9e2af03db89a63cae038d79569d879ac3706801ba383ac0b3ca91c3e9fed1f36"
   }
  }
 },
 "nbformat": 4,
 "nbformat_minor": 2
}
